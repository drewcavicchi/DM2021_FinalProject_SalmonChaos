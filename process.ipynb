{
 "cells": [
  {
   "cell_type": "code",
   "execution_count": 1,
   "metadata": {},
   "outputs": [],
   "source": [
    "import warnings\n",
    "import pandas as pd\n",
    "import numpy as np\n",
    "import os\n",
    "warnings.filterwarnings('ignore')"
   ]
  },
  {
   "cell_type": "code",
   "execution_count": 44,
   "metadata": {},
   "outputs": [],
   "source": [
    "name = os.listdir('competition_data')\n",
    "\n",
    "id_name = []\n",
    "for i in name:\n",
    "    temp = i.split(\".\")[0]\n",
    "    id_name.append(temp)"
   ]
  },
  {
   "cell_type": "code",
   "execution_count": 27,
   "metadata": {
    "scrolled": true
   },
   "outputs": [
    {
     "name": "stderr",
     "output_type": "stream",
     "text": [
      "Downloading...\n",
      "From: https://drive.google.com/uc?id=1efHsY16pxK0lBD2gYCgCTnv1Swstq771\n",
      "To: C:\\Users\\WangHongWen\\Desktop\\data_mining\\final_project\\ai cup\\data.zip\n",
      "100%|█████████████████████████████████████████████████████████████████████████████| 1.88G/1.88G [12:42<00:00, 2.46MB/s]\n"
     ]
    }
   ],
   "source": [
    "# from ckiptagger import data_utils\n",
    "# data_utils.download_data_gdown(\"./\")"
   ]
  },
  {
   "cell_type": "markdown",
   "metadata": {},
   "source": [
    "# Punctuations"
   ]
  },
  {
   "cell_type": "code",
   "execution_count": 29,
   "metadata": {},
   "outputs": [],
   "source": [
    "all_data = []\n",
    "all_data2 = []\n",
    "from zhon.hanzi import punctuation\n",
    "\n",
    "for info in os.listdir(r'competition_data'):\n",
    "#     print(info) # form: xxx.txt\n",
    "    domain = os.path.abspath(r'competition_data') #獲取資料夾的路徑\n",
    "    info = os.path.join(domain,info)\n",
    "    info = open(info,'r', encoding=\"utf-8\")\n",
    "    temp = info.read()\n",
    "    temp = temp.replace(\"\\n\", \"\")\n",
    "    all_data.append(temp)\n",
    "    for i in punctuation:\n",
    "        temp = temp.replace(i, '')\n",
    "    all_data2.append(temp)\n",
    "    info.close()\n",
    "# all_data -> with punctuations\n",
    "# all_data2  -> without punctuations"
   ]
  },
  {
   "cell_type": "code",
   "execution_count": 233,
   "metadata": {},
   "outputs": [],
   "source": [
    "all_data_c = []\n",
    "for para in all_data2:\n",
    "    res = para.replace(\"\\x7f\", \"\")\n",
    "    all_data_c.append(res)"
   ]
  },
  {
   "cell_type": "markdown",
   "metadata": {},
   "source": [
    "# Synonyms"
   ]
  },
  {
   "cell_type": "code",
   "execution_count": 131,
   "metadata": {
    "scrolled": true
   },
   "outputs": [],
   "source": [
    "chem_syn = pd.read_excel(\"other_info/Keywords/02chem.list.xlsx\")\n",
    "crop_syn = pd.read_excel(\"other_info/Keywords/02crop.list.xlsx\")\n",
    "pest_syn = pd.read_excel(\"other_info/Keywords/02pest.list.xlsx\")\n",
    "\n",
    "chem_syn = chem_syn.fillna(0)\n",
    "crop_syn = crop_syn.fillna(0)\n",
    "pest_syn = pest_syn.fillna(0)"
   ]
  },
  {
   "cell_type": "code",
   "execution_count": 199,
   "metadata": {},
   "outputs": [],
   "source": [
    "def replace_synonyms(para):\n",
    "    \"\"\"\n",
    "    replace all the synonym by the longest one.\n",
    "    \"\"\"\n",
    "    # chem\n",
    "    s_len = chem_syn.shape[0]\n",
    "    chem_cols = chem_syn.columns\n",
    "    for i in range(s_len):\n",
    "        # find the longest syn.\n",
    "        base_word = chem_syn['synonym1'][i]\n",
    "        for c in chem_cols:\n",
    "            if chem_syn[c][i]!= 0 and len(chem_syn[c][i]) > len(base_word):\n",
    "                base_word = chem_syn[c][i]\n",
    "        # replace all syn.\n",
    "        for col in chem_cols:\n",
    "            if chem_syn[col][i] != 0:\n",
    "                para = para.replace(chem_syn[col][i], base_word)\n",
    "                \n",
    "    # crop\n",
    "    s_len = crop_syn.shape[0]\n",
    "    crop_cols = crop_syn.columns\n",
    "    for i in range(s_len):\n",
    "        # find the longest syn.\n",
    "        base_word = crop_syn['synonym1'][i]\n",
    "        for c in crop_cols:\n",
    "            if crop_syn[c][i]!= 0 and len(crop_syn[c][i]) > len(base_word):\n",
    "                base_word = crop_syn[c][i]\n",
    "        # replace all syn.\n",
    "        for col in crop_cols:\n",
    "            if crop_syn[col][i] != 0:\n",
    "                para = para.replace(crop_syn[col][i], base_word)\n",
    "\n",
    "    # pest\n",
    "    s_len = pest_syn.shape[0]\n",
    "    pest_cols = pest_syn.columns\n",
    "    for i in range(s_len):\n",
    "        # find the longest syn.\n",
    "        base_word = pest_syn['synonym1'][i]\n",
    "        for c in pest_cols:\n",
    "            if pest_syn[c][i]!= 0 and len(pest_syn[c][i]) > len(base_word):\n",
    "                base_word = pest_syn[c][i]\n",
    "        # replace all syn.\n",
    "        for col in pest_cols:\n",
    "            if pest_syn[col][i] != 0:\n",
    "                para = para.replace(pest_syn[col][i], base_word)\n",
    "\n",
    "    return para"
   ]
  },
  {
   "cell_type": "code",
   "execution_count": 223,
   "metadata": {},
   "outputs": [],
   "source": [
    "r_all_data = [] # replace all synonyms with the first words\n",
    "\n",
    "for para in all_data2:\n",
    "    res = replace_synonyms(para).replace(\"\\x7f\", \"\")\n",
    "    r_all_data.append(res)"
   ]
  },
  {
   "cell_type": "markdown",
   "metadata": {},
   "source": [
    "# Tokenize"
   ]
  },
  {
   "cell_type": "code",
   "execution_count": 32,
   "metadata": {
    "scrolled": false
   },
   "outputs": [
    {
     "name": "stderr",
     "output_type": "stream",
     "text": [
      "C:\\anaconda\\lib\\site-packages\\keras\\layers\\legacy_rnn\\rnn_cell_impl.py:901: UserWarning: `tf.nn.rnn_cell.LSTMCell` is deprecated and will be removed in a future version. This class is equivalent as `tf.keras.layers.LSTMCell`, and will be replaced by that in Tensorflow 2.0.\n",
      "  warnings.warn(\"`tf.nn.rnn_cell.LSTMCell` is deprecated and will be \"\n",
      "C:\\anaconda\\lib\\site-packages\\keras\\engine\\base_layer_v1.py:1684: UserWarning: `layer.add_variable` is deprecated and will be removed in a future version. Please use `layer.add_weight` method instead.\n",
      "  warnings.warn('`layer.add_variable` is deprecated and '\n",
      "Exception ignored in: <bound method WS.__del__ of <ckiptagger.api.WS object at 0x0000027E798C5320>>\n",
      "Traceback (most recent call last):\n",
      "  File \"C:\\anaconda\\lib\\site-packages\\ckiptagger\\api.py\", line 65, in __del__\n",
      "    self.model.sess.close()\n",
      "AttributeError: 'WS' object has no attribute 'model'\n",
      "Exception ignored in: <bound method WS.__del__ of <ckiptagger.api.WS object at 0x0000027E6C007160>>\n",
      "Traceback (most recent call last):\n",
      "  File \"C:\\anaconda\\lib\\site-packages\\ckiptagger\\api.py\", line 65, in __del__\n",
      "    self.model.sess.close()\n",
      "AttributeError: 'WS' object has no attribute 'model'\n"
     ]
    }
   ],
   "source": [
    "from ckiptagger import WS, POS, NER\n",
    "ws = WS(\"./data\")\n",
    "pos = POS(\"./data\")\n",
    "ner = NER(\"./data\")"
   ]
  },
  {
   "cell_type": "code",
   "execution_count": 225,
   "metadata": {},
   "outputs": [],
   "source": [
    "word_spilt = ws(r_all_data)"
   ]
  },
  {
   "cell_type": "code",
   "execution_count": 235,
   "metadata": {},
   "outputs": [],
   "source": [
    "word_spilt2 = ws(all_data_c)"
   ]
  },
  {
   "cell_type": "markdown",
   "metadata": {},
   "source": [
    "# Calculate the number of tokens"
   ]
  },
  {
   "cell_type": "code",
   "execution_count": 259,
   "metadata": {},
   "outputs": [],
   "source": [
    "train_lebel = pd.read_csv(\"other_info/TrainLabel.csv\")"
   ]
  },
  {
   "cell_type": "markdown",
   "metadata": {},
   "source": [
    "index: `id_name`\n",
    "\n",
    "raw_text: `all_data_c`\n",
    "\n",
    "tokens_rep: `word_spilt`\n",
    "\n",
    "tokens: `word_spilt2`"
   ]
  },
  {
   "cell_type": "code",
   "execution_count": 270,
   "metadata": {
    "scrolled": true
   },
   "outputs": [],
   "source": [
    "# cols = ['index', 'raw_text', 'tokens_rep', 'tokens']\n",
    "processed_data = pd.DataFrame({'doc_index': id_name, 'raw_text': all_data_c, 'tokens_rep': word_spilt, 'tokens':word_spilt2})\n",
    "processed_data['tokens_num'] = \"\"\n",
    "processed_data['reference'] = \"\""
   ]
  },
  {
   "cell_type": "code",
   "execution_count": 271,
   "metadata": {},
   "outputs": [],
   "source": [
    "p_len = len(processed_data['doc_index'])\n",
    "for i in range(p_len):\n",
    "    processed_data['tokens_num'][i] = len(processed_data['tokens_rep'][i])\n",
    "    idx = processed_data['doc_index'][i]\n",
    "    processed_data['reference'][i] = list(train_lebel.query('Test == @idx')['Reference'])"
   ]
  },
  {
   "cell_type": "code",
   "execution_count": 272,
   "metadata": {},
   "outputs": [],
   "source": [
    "processed_data.to_csv(\"processed_data.csv\", index=False)"
   ]
  },
  {
   "cell_type": "code",
   "execution_count": null,
   "metadata": {},
   "outputs": [],
   "source": []
  },
  {
   "cell_type": "code",
   "execution_count": 3,
   "metadata": {},
   "outputs": [
    {
     "data": {
      "text/html": [
       "<div>\n",
       "<style scoped>\n",
       "    .dataframe tbody tr th:only-of-type {\n",
       "        vertical-align: middle;\n",
       "    }\n",
       "\n",
       "    .dataframe tbody tr th {\n",
       "        vertical-align: top;\n",
       "    }\n",
       "\n",
       "    .dataframe thead th {\n",
       "        text-align: right;\n",
       "    }\n",
       "</style>\n",
       "<table border=\"1\" class=\"dataframe\">\n",
       "  <thead>\n",
       "    <tr style=\"text-align: right;\">\n",
       "      <th></th>\n",
       "      <th>doc_index</th>\n",
       "      <th>tokens_num</th>\n",
       "    </tr>\n",
       "  </thead>\n",
       "  <tbody>\n",
       "    <tr>\n",
       "      <th>count</th>\n",
       "      <td>560.000000</td>\n",
       "      <td>560.000000</td>\n",
       "    </tr>\n",
       "    <tr>\n",
       "      <th>mean</th>\n",
       "      <td>690.512500</td>\n",
       "      <td>339.558929</td>\n",
       "    </tr>\n",
       "    <tr>\n",
       "      <th>std</th>\n",
       "      <td>407.902352</td>\n",
       "      <td>148.236648</td>\n",
       "    </tr>\n",
       "    <tr>\n",
       "      <th>min</th>\n",
       "      <td>1.000000</td>\n",
       "      <td>18.000000</td>\n",
       "    </tr>\n",
       "    <tr>\n",
       "      <th>25%</th>\n",
       "      <td>325.750000</td>\n",
       "      <td>236.750000</td>\n",
       "    </tr>\n",
       "    <tr>\n",
       "      <th>50%</th>\n",
       "      <td>691.500000</td>\n",
       "      <td>313.000000</td>\n",
       "    </tr>\n",
       "    <tr>\n",
       "      <th>75%</th>\n",
       "      <td>1037.500000</td>\n",
       "      <td>409.500000</td>\n",
       "    </tr>\n",
       "    <tr>\n",
       "      <th>max</th>\n",
       "      <td>1401.000000</td>\n",
       "      <td>1087.000000</td>\n",
       "    </tr>\n",
       "  </tbody>\n",
       "</table>\n",
       "</div>"
      ],
      "text/plain": [
       "         doc_index   tokens_num\n",
       "count   560.000000   560.000000\n",
       "mean    690.512500   339.558929\n",
       "std     407.902352   148.236648\n",
       "min       1.000000    18.000000\n",
       "25%     325.750000   236.750000\n",
       "50%     691.500000   313.000000\n",
       "75%    1037.500000   409.500000\n",
       "max    1401.000000  1087.000000"
      ]
     },
     "execution_count": 3,
     "metadata": {},
     "output_type": "execute_result"
    }
   ],
   "source": [
    "df = pd.read_csv(\"processed_data.csv\")\n",
    "df.describe()"
   ]
  },
  {
   "cell_type": "code",
   "execution_count": 5,
   "metadata": {},
   "outputs": [
    {
     "data": {
      "text/html": [
       "<div>\n",
       "<style scoped>\n",
       "    .dataframe tbody tr th:only-of-type {\n",
       "        vertical-align: middle;\n",
       "    }\n",
       "\n",
       "    .dataframe tbody tr th {\n",
       "        vertical-align: top;\n",
       "    }\n",
       "\n",
       "    .dataframe thead th {\n",
       "        text-align: right;\n",
       "    }\n",
       "</style>\n",
       "<table border=\"1\" class=\"dataframe\">\n",
       "  <thead>\n",
       "    <tr style=\"text-align: right;\">\n",
       "      <th></th>\n",
       "      <th>doc_index</th>\n",
       "      <th>raw_text</th>\n",
       "      <th>tokens_rep</th>\n",
       "      <th>tokens</th>\n",
       "      <th>tokens_num</th>\n",
       "      <th>reference</th>\n",
       "    </tr>\n",
       "  </thead>\n",
       "  <tbody>\n",
       "    <tr>\n",
       "      <th>0</th>\n",
       "      <td>1</td>\n",
       "      <td>梅雨季來臨文旦黑點病易發生請注意病徵以及早加強防治措施5月已進入梅雨季節近日連續降雨為文旦黑...</td>\n",
       "      <td>['梅雨季', '來臨', '麻豆', '文旦', '黑點病', '易', '發生', '請...</td>\n",
       "      <td>['梅雨季', '來臨', '文旦', '黑點病', '易', '發生', '請', '注意...</td>\n",
       "      <td>159</td>\n",
       "      <td>[]</td>\n",
       "    </tr>\n",
       "    <tr>\n",
       "      <th>1</th>\n",
       "      <td>10</td>\n",
       "      <td>天氣多變溫差大近山區及偏施氮肥田區稻熱病發病較為嚴重籲請農友注意防治花蓮區農改場防檢局及田邊...</td>\n",
       "      <td>['天氣', '多變', '溫差', '大近', '山區', '及', '偏施', '氮肥田...</td>\n",
       "      <td>['天氣', '多變', '溫差', '大近', '山區', '及', '偏施', '氮肥田...</td>\n",
       "      <td>302</td>\n",
       "      <td>[]</td>\n",
       "    </tr>\n",
       "    <tr>\n",
       "      <th>2</th>\n",
       "      <td>1000</td>\n",
       "      <td>新聞稿-稻熱病進入好發季節防檢局籲請農友加強防範行政院農業委員會動植物防疫檢疫局以下簡稱防檢...</td>\n",
       "      <td>['新聞稿', '-', '稻熱病', '進入', '好', '發', '季節', '防檢局...</td>\n",
       "      <td>['新聞稿', '-', '稻熱病', '進入', '好', '發', '季節', '防檢局...</td>\n",
       "      <td>421</td>\n",
       "      <td>[1005, 1023]</td>\n",
       "    </tr>\n",
       "    <tr>\n",
       "      <th>3</th>\n",
       "      <td>1005</td>\n",
       "      <td>稻熱病進入好發季節防檢局籲請農友加強防治農委會防檢局表示自3月起全國各地水稻生長陸續進入分蘗...</td>\n",
       "      <td>['稻熱病', '進入', '好', '發', '季節', '防檢局', '籲請', '農友...</td>\n",
       "      <td>['稻熱病', '進入', '好', '發', '季節', '防檢局', '籲請', '農友...</td>\n",
       "      <td>409</td>\n",
       "      <td>[1000, 1023]</td>\n",
       "    </tr>\n",
       "    <tr>\n",
       "      <th>4</th>\n",
       "      <td>1007</td>\n",
       "      <td>乍暖還寒防檢局籲請農友加強防治稻熱病農委會防檢局表示全國各地水稻生長陸續進入分蘗期因逢暖冬且...</td>\n",
       "      <td>['乍暖還寒', '防檢局', '籲請', '農友', '加強', '防治', '稻熱病',...</td>\n",
       "      <td>['乍暖還寒', '防檢局', '籲請', '農友', '加強', '防治', '稻熱病',...</td>\n",
       "      <td>379</td>\n",
       "      <td>[438, 893, 1000, 1005, 1015, 1023]</td>\n",
       "    </tr>\n",
       "    <tr>\n",
       "      <th>5</th>\n",
       "      <td>1010</td>\n",
       "      <td>提早入梅請加強防範水稻稻熱病發生農委會防檢局表示依據中央氣象局資料今年首波梅雨鋒面提早於五月...</td>\n",
       "      <td>['提早', '入梅', '請', '加強', '防範', '水稻', '稻熱病', '發生...</td>\n",
       "      <td>['提早', '入梅', '請', '加強', '防範', '水稻', '稻熱病', '發生...</td>\n",
       "      <td>336</td>\n",
       "      <td>[188, 289, 296, 809, 891, 1000, 1005, 1023]</td>\n",
       "    </tr>\n",
       "    <tr>\n",
       "      <th>6</th>\n",
       "      <td>1011</td>\n",
       "      <td>果實蠅已進入發生高峰期請果農加強防治農委會防檢局表示隨著氣溫日漸攀升夏季水果陸續進入成熟期各...</td>\n",
       "      <td>['果實蠅', '已', '進入', '發生', '高峰', '期請', '果農', '加強...</td>\n",
       "      <td>['果實蠅', '已', '進入', '發生', '高峰', '期請', '果農', '加強...</td>\n",
       "      <td>376</td>\n",
       "      <td>[]</td>\n",
       "    </tr>\n",
       "    <tr>\n",
       "      <th>7</th>\n",
       "      <td>1015</td>\n",
       "      <td>稻熱病蠢蠢欲動防檢局籲請農友加強防範目前水稻生長陸續進入分蘗期由於最近氣候乍暖還寒溫度變化大...</td>\n",
       "      <td>['稻熱病', '蠢蠢欲動', '防檢局', '籲請', '農友', '加強', '防範',...</td>\n",
       "      <td>['稻熱病', '蠢蠢欲動', '防檢局', '籲請', '農友', '加強', '防範',...</td>\n",
       "      <td>446</td>\n",
       "      <td>[438, 893, 1000, 1005, 1007, 1023]</td>\n",
       "    </tr>\n",
       "    <tr>\n",
       "      <th>8</th>\n",
       "      <td>1016</td>\n",
       "      <td>莫拉克颱風災後農作物復育措施莫拉克颱風造成的淹水情況使農田環境濕度提高加上天氣放晴後溫度升高...</td>\n",
       "      <td>['莫拉克', '颱風', '災', '後', '農作物', '復育', '措施', '莫拉...</td>\n",
       "      <td>['莫拉克', '颱風', '災', '後', '農作物', '復育', '措施', '莫拉...</td>\n",
       "      <td>296</td>\n",
       "      <td>[]</td>\n",
       "    </tr>\n",
       "    <tr>\n",
       "      <th>9</th>\n",
       "      <td>1023</td>\n",
       "      <td>嘉義市已發現水稻稻熱病發生籲請農友掌握防治時機嘉義市政府防檢局及田邊好幫手關心您嘉義市地區水...</td>\n",
       "      <td>['嘉義市', '已', '發現', '水稻', '稻熱病', '發生', '籲請', '農...</td>\n",
       "      <td>['嘉義市', '已', '發現', '水稻', '稻熱病', '發生', '籲請', '農...</td>\n",
       "      <td>225</td>\n",
       "      <td>[1000, 1005]</td>\n",
       "    </tr>\n",
       "  </tbody>\n",
       "</table>\n",
       "</div>"
      ],
      "text/plain": [
       "   doc_index                                           raw_text  \\\n",
       "0          1  梅雨季來臨文旦黑點病易發生請注意病徵以及早加強防治措施5月已進入梅雨季節近日連續降雨為文旦黑...   \n",
       "1         10  天氣多變溫差大近山區及偏施氮肥田區稻熱病發病較為嚴重籲請農友注意防治花蓮區農改場防檢局及田邊...   \n",
       "2       1000  新聞稿-稻熱病進入好發季節防檢局籲請農友加強防範行政院農業委員會動植物防疫檢疫局以下簡稱防檢...   \n",
       "3       1005  稻熱病進入好發季節防檢局籲請農友加強防治農委會防檢局表示自3月起全國各地水稻生長陸續進入分蘗...   \n",
       "4       1007  乍暖還寒防檢局籲請農友加強防治稻熱病農委會防檢局表示全國各地水稻生長陸續進入分蘗期因逢暖冬且...   \n",
       "5       1010  提早入梅請加強防範水稻稻熱病發生農委會防檢局表示依據中央氣象局資料今年首波梅雨鋒面提早於五月...   \n",
       "6       1011  果實蠅已進入發生高峰期請果農加強防治農委會防檢局表示隨著氣溫日漸攀升夏季水果陸續進入成熟期各...   \n",
       "7       1015  稻熱病蠢蠢欲動防檢局籲請農友加強防範目前水稻生長陸續進入分蘗期由於最近氣候乍暖還寒溫度變化大...   \n",
       "8       1016  莫拉克颱風災後農作物復育措施莫拉克颱風造成的淹水情況使農田環境濕度提高加上天氣放晴後溫度升高...   \n",
       "9       1023  嘉義市已發現水稻稻熱病發生籲請農友掌握防治時機嘉義市政府防檢局及田邊好幫手關心您嘉義市地區水...   \n",
       "\n",
       "                                          tokens_rep  \\\n",
       "0  ['梅雨季', '來臨', '麻豆', '文旦', '黑點病', '易', '發生', '請...   \n",
       "1  ['天氣', '多變', '溫差', '大近', '山區', '及', '偏施', '氮肥田...   \n",
       "2  ['新聞稿', '-', '稻熱病', '進入', '好', '發', '季節', '防檢局...   \n",
       "3  ['稻熱病', '進入', '好', '發', '季節', '防檢局', '籲請', '農友...   \n",
       "4  ['乍暖還寒', '防檢局', '籲請', '農友', '加強', '防治', '稻熱病',...   \n",
       "5  ['提早', '入梅', '請', '加強', '防範', '水稻', '稻熱病', '發生...   \n",
       "6  ['果實蠅', '已', '進入', '發生', '高峰', '期請', '果農', '加強...   \n",
       "7  ['稻熱病', '蠢蠢欲動', '防檢局', '籲請', '農友', '加強', '防範',...   \n",
       "8  ['莫拉克', '颱風', '災', '後', '農作物', '復育', '措施', '莫拉...   \n",
       "9  ['嘉義市', '已', '發現', '水稻', '稻熱病', '發生', '籲請', '農...   \n",
       "\n",
       "                                              tokens  tokens_num  \\\n",
       "0  ['梅雨季', '來臨', '文旦', '黑點病', '易', '發生', '請', '注意...         159   \n",
       "1  ['天氣', '多變', '溫差', '大近', '山區', '及', '偏施', '氮肥田...         302   \n",
       "2  ['新聞稿', '-', '稻熱病', '進入', '好', '發', '季節', '防檢局...         421   \n",
       "3  ['稻熱病', '進入', '好', '發', '季節', '防檢局', '籲請', '農友...         409   \n",
       "4  ['乍暖還寒', '防檢局', '籲請', '農友', '加強', '防治', '稻熱病',...         379   \n",
       "5  ['提早', '入梅', '請', '加強', '防範', '水稻', '稻熱病', '發生...         336   \n",
       "6  ['果實蠅', '已', '進入', '發生', '高峰', '期請', '果農', '加強...         376   \n",
       "7  ['稻熱病', '蠢蠢欲動', '防檢局', '籲請', '農友', '加強', '防範',...         446   \n",
       "8  ['莫拉克', '颱風', '災', '後', '農作物', '復育', '措施', '莫拉...         296   \n",
       "9  ['嘉義市', '已', '發現', '水稻', '稻熱病', '發生', '籲請', '農...         225   \n",
       "\n",
       "                                     reference  \n",
       "0                                           []  \n",
       "1                                           []  \n",
       "2                                 [1005, 1023]  \n",
       "3                                 [1000, 1023]  \n",
       "4           [438, 893, 1000, 1005, 1015, 1023]  \n",
       "5  [188, 289, 296, 809, 891, 1000, 1005, 1023]  \n",
       "6                                           []  \n",
       "7           [438, 893, 1000, 1005, 1007, 1023]  \n",
       "8                                           []  \n",
       "9                                 [1000, 1005]  "
      ]
     },
     "execution_count": 5,
     "metadata": {},
     "output_type": "execute_result"
    }
   ],
   "source": [
    "df[:10]"
   ]
  }
 ],
 "metadata": {
  "kernelspec": {
   "display_name": "Python 3",
   "language": "python",
   "name": "python3"
  },
  "language_info": {
   "codemirror_mode": {
    "name": "ipython",
    "version": 3
   },
   "file_extension": ".py",
   "mimetype": "text/x-python",
   "name": "python",
   "nbconvert_exporter": "python",
   "pygments_lexer": "ipython3",
   "version": "3.6.5"
  }
 },
 "nbformat": 4,
 "nbformat_minor": 4
}
